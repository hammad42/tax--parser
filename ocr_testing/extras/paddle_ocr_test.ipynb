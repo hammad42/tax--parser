{
 "cells": [
  {
   "cell_type": "code",
   "execution_count": 1,
   "id": "f134f3cf-2fae-4364-85e3-9380f449a3ce",
   "metadata": {},
   "outputs": [
    {
     "name": "stderr",
     "output_type": "stream",
     "text": [
      "e:\\python\\Lib\\site-packages\\paddleocr\\ppocr\\postprocess\\rec_postprocess.py:1228: SyntaxWarning: invalid escape sequence '\\W'\n",
      "  noletter = \"[\\W_^\\d]\"\n"
     ]
    }
   ],
   "source": [
    "from paddleocr import PaddleOCR, draw_ocr # main OCR dependencies\n",
    "from matplotlib import pyplot as plt # plot images\n",
    "import cv2 #opencv\n",
    "import os # folder directory navigation"
   ]
  },
  {
   "cell_type": "code",
   "execution_count": 2,
   "id": "d3f213fb-a046-4479-8b0d-6e6de7529186",
   "metadata": {},
   "outputs": [
    {
     "name": "stdout",
     "output_type": "stream",
     "text": [
      "[2025/02/28 23:50:27] ppocr DEBUG: Namespace(help='==SUPPRESS==', use_gpu=True, use_xpu=False, use_npu=False, use_mlu=False, ir_optim=True, use_tensorrt=False, min_subgraph_size=15, precision='fp32', gpu_mem=500, gpu_id=0, image_dir=None, page_num=0, det_algorithm='DB', det_model_dir='C:\\\\Users\\\\hamma/.paddleocr/whl\\\\det\\\\en\\\\en_PP-OCRv3_det_infer', det_limit_side_len=960, det_limit_type='max', det_box_type='quad', det_db_thresh=0.3, det_db_box_thresh=0.6, det_db_unclip_ratio=1.5, max_batch_size=10, use_dilation=False, det_db_score_mode='fast', det_east_score_thresh=0.8, det_east_cover_thresh=0.1, det_east_nms_thresh=0.2, det_sast_score_thresh=0.5, det_sast_nms_thresh=0.2, det_pse_thresh=0, det_pse_box_thresh=0.85, det_pse_min_area=16, det_pse_scale=1, scales=[8, 16, 32], alpha=1.0, beta=1.0, fourier_degree=5, rec_algorithm='SVTR_LCNet', rec_model_dir='C:\\\\Users\\\\hamma/.paddleocr/whl\\\\rec\\\\en\\\\en_PP-OCRv4_rec_infer', rec_image_inverse=True, rec_image_shape='3, 48, 320', rec_batch_num=6, max_text_length=25, rec_char_dict_path='e:\\\\python\\\\Lib\\\\site-packages\\\\paddleocr\\\\ppocr\\\\utils\\\\en_dict.txt', use_space_char=True, vis_font_path='./doc/fonts/simfang.ttf', drop_score=0.5, e2e_algorithm='PGNet', e2e_model_dir=None, e2e_limit_side_len=768, e2e_limit_type='max', e2e_pgnet_score_thresh=0.5, e2e_char_dict_path='./ppocr/utils/ic15_dict.txt', e2e_pgnet_valid_set='totaltext', e2e_pgnet_mode='fast', use_angle_cls=False, cls_model_dir='C:\\\\Users\\\\hamma/.paddleocr/whl\\\\cls\\\\ch_ppocr_mobile_v2.0_cls_infer', cls_image_shape='3, 48, 192', label_list=['0', '180'], cls_batch_num=6, cls_thresh=0.9, enable_mkldnn=False, cpu_threads=10, use_pdserving=False, warmup=False, sr_model_dir=None, sr_image_shape='3, 32, 128', sr_batch_num=1, draw_img_save_dir='./inference_results', save_crop_res=False, crop_res_save_dir='./output', use_mp=False, total_process_num=1, process_id=0, benchmark=False, save_log_path='./log_output/', show_log=True, use_onnx=False, return_word_box=False, output='./output', table_max_len=488, table_algorithm='TableAttn', table_model_dir=None, merge_no_span_structure=True, table_char_dict_path=None, formula_algorithm='LaTeXOCR', formula_model_dir=None, formula_char_dict_path=None, formula_batch_num=1, layout_model_dir=None, layout_dict_path=None, layout_score_threshold=0.5, layout_nms_threshold=0.5, kie_algorithm='LayoutXLM', ser_model_dir=None, re_model_dir=None, use_visual_backbone=True, ser_dict_path='../train_data/XFUND/class_list_xfun.txt', ocr_order_method=None, mode='structure', image_orientation=False, layout=True, table=True, formula=False, ocr=True, recovery=False, recovery_to_markdown=False, use_pdf2docx_api=False, invert=False, binarize=False, alphacolor=(255, 255, 255), lang='en', det=True, rec=True, type='ocr', savefile=False, ocr_version='PP-OCRv4', structure_version='PP-StructureV2')\n",
      "[2025/02/28 23:50:27] ppocr WARNING: The first GPU is used for inference by default, GPU ID: 0\n",
      "[2025/02/28 23:50:29] ppocr WARNING: The first GPU is used for inference by default, GPU ID: 0\n"
     ]
    }
   ],
   "source": [
    "ocr_model= PaddleOCR(use_gpu=True,lang='en') # Load the OCR model"
   ]
  },
  {
   "cell_type": "code",
   "execution_count": 3,
   "id": "d21b6ddc-6c47-4af5-87bf-32f9ce68a44b",
   "metadata": {},
   "outputs": [
    {
     "name": "stdout",
     "output_type": "stream",
     "text": [
      "[2025/02/28 23:50:36] ppocr DEBUG: dt_boxes num : 24, elapsed : 0.31999993324279785\n",
      "[2025/02/28 23:50:36] ppocr DEBUG: rec_res num  : 24, elapsed : 0.22701287269592285\n"
     ]
    }
   ],
   "source": [
    "result = ocr_model.ocr(r'E:\\Projects\\OCR\\ocr_testing\\samples\\gray_images\\gray_Screenshot_20250211-234427_1.png', cls=False) # Run the OCR model on the image"
   ]
  },
  {
   "cell_type": "code",
   "execution_count": 18,
   "id": "311f556f-1a13-4dfd-8fa3-9c1675e5d0ba",
   "metadata": {},
   "outputs": [
    {
     "data": {
      "text/plain": [
       "[[[[23.0, 12.0], [171.0, 12.0], [171.0, 30.0], [23.0, 30.0]],\n",
       "  ('Invoice Number:', 0.9540684223175049)],\n",
       " [[[23.0, 48.0], [225.0, 48.0], [225.0, 66.0], [23.0, 66.0]],\n",
       "  ('17256224121322859780', 0.9993818402290344)],\n",
       " [[[23.0, 94.0], [182.0, 94.0], [182.0, 112.0], [23.0, 112.0]],\n",
       "  ('Total Sales Value', 0.9649668335914612)],\n",
       " [[[23.0, 130.0], [88.0, 130.0], [88.0, 149.0], [23.0, 149.0]],\n",
       "  ('3333.91', 0.9976738691329956)],\n",
       " [[[22.0, 173.0], [156.0, 177.0], [156.0, 198.0], [21.0, 195.0]],\n",
       "  ('Total Quantity:', 0.962952733039856)],\n",
       " [[[21.0, 212.0], [64.0, 212.0], [64.0, 234.0], [21.0, 234.0]],\n",
       "  ('9.00', 0.9998164772987366)],\n",
       " [[[22.0, 259.0], [192.0, 259.0], [192.0, 279.0], [22.0, 279.0]],\n",
       "  ('Total Tax Charged', 0.9564278721809387)],\n",
       " [[[22.0, 295.0], [86.0, 295.0], [86.0, 316.0], [22.0, 316.0]],\n",
       "  ('600.09', 0.9994247555732727)],\n",
       " [[[23.0, 343.0], [107.0, 343.0], [107.0, 361.0], [23.0, 361.0]],\n",
       "  ('Discount:', 0.9847517013549805)],\n",
       " [[[21.0, 377.0], [64.0, 377.0], [64.0, 400.0], [21.0, 400.0]],\n",
       "  ('0.00', 0.9998037815093994)],\n",
       " [[[23.0, 425.0], [180.0, 425.0], [180.0, 443.0], [23.0, 443.0]],\n",
       "  ('Total Bill Amount:', 0.9676569700241089)],\n",
       " [[[22.0, 461.0], [94.0, 461.0], [94.0, 480.0], [22.0, 480.0]],\n",
       "  ('3935.62', 0.9987794160842896)],\n",
       " [[[23.0, 506.0], [122.0, 509.0], [121.0, 527.0], [22.0, 525.0]],\n",
       "  ('Date Time:', 0.9524630308151245)],\n",
       " [[[25.0, 545.0], [259.0, 545.0], [259.0, 560.0], [25.0, 560.0]],\n",
       "  ('2024-12-13T22:05:00+05:00', 0.9612587094306946)],\n",
       " [[[20.0, 590.0], [64.0, 590.0], [64.0, 609.0], [20.0, 609.0]],\n",
       "  ('NTN:', 0.9842879772186279)],\n",
       " [[[23.0, 628.0], [124.0, 628.0], [124.0, 645.0], [23.0, 645.0]],\n",
       "  ('8009003-2', 0.998144805431366)],\n",
       " [[[23.0, 674.0], [166.0, 674.0], [166.0, 691.0], [23.0, 691.0]],\n",
       "  ('Business Name:', 0.9719333052635193)],\n",
       " [[[24.0, 712.0], [216.0, 712.0], [216.0, 726.0], [24.0, 726.0]],\n",
       "  ('C PLUS SUPERMARKET', 0.9400306344032288)],\n",
       " [[[23.0, 757.0], [152.0, 757.0], [152.0, 774.0], [23.0, 774.0]],\n",
       "  ('Branch Name:', 0.9573943018913269)],\n",
       " [[[23.0, 793.0], [304.0, 793.0], [304.0, 810.0], [23.0, 810.0]],\n",
       "  ('C PLUS SUPER MARKET UP MOrr', 0.9063310027122498)],\n",
       " [[[24.0, 839.0], [170.0, 839.0], [170.0, 857.0], [24.0, 857.0]],\n",
       "  ('Branch Address:', 0.9716966152191162)],\n",
       " [[[22.0, 874.0], [405.0, 874.0], [405.0, 895.0], [22.0, 895.0]],\n",
       "  ('Plot A-01 (ST-09) sector ll-1 north karachi', 0.9615556597709656)],\n",
       " [[[23.0, 920.0], [144.0, 922.0], [144.0, 941.0], [22.0, 939.0]],\n",
       "  ('POS Counter:', 0.9212625622749329)],\n",
       " [[[21.0, 956.0], [85.0, 956.0], [85.0, 978.0], [21.0, 978.0]],\n",
       "  ('172562', 0.9999523758888245)]]"
      ]
     },
     "execution_count": 18,
     "metadata": {},
     "output_type": "execute_result"
    }
   ],
   "source": [
    "result[0]"
   ]
  },
  {
   "cell_type": "code",
   "execution_count": null,
   "id": "4d5dbefa",
   "metadata": {},
   "outputs": [],
   "source": []
  },
  {
   "cell_type": "code",
   "execution_count": 21,
   "id": "ca12cb39-10d3-48f5-a1b1-81e430866938",
   "metadata": {},
   "outputs": [
    {
     "name": "stdout",
     "output_type": "stream",
     "text": [
      "Invoice Number:\n",
      "17256224121322859780\n",
      "Total Sales Value\n",
      "3333.91\n",
      "Total Quantity:\n",
      "9.00\n",
      "Total Tax Charged\n",
      "600.09\n",
      "Discount:\n",
      "0.00\n",
      "Total Bill Amount:\n",
      "3935.62\n",
      "Date Time:\n",
      "2024-12-13T22:05:00+05:00\n",
      "NTN:\n",
      "8009003-2\n",
      "Business Name:\n",
      "C PLUS SUPERMARKET\n",
      "Branch Name:\n",
      "C PLUS SUPER MARKET UP MOrr\n",
      "Branch Address:\n",
      "Plot A-01 (ST-09) sector ll-1 north karachi\n",
      "POS Counter:\n",
      "172562\n"
     ]
    }
   ],
   "source": [
    "\n",
    "def extract_text(data):\n",
    "  \"\"\"\n",
    "  Extracts text from the given nested list data structure.\n",
    "\n",
    "  Args:\n",
    "    data: A nested list containing text and bounding box information.\n",
    "\n",
    "  Returns:\n",
    "    A list of strings containing the extracted text.\n",
    "  \"\"\"\n",
    "  extracted_texts = []\n",
    "  for item_level1 in data:\n",
    "    for item_level2 in item_level1:\n",
    "      if isinstance(item_level2, tuple):\n",
    "        text = item_level2[0]\n",
    "        extracted_texts.append(text)\n",
    "  return extracted_texts\n",
    "\n",
    "texts = extract_text(result[0])\n",
    "for text in texts:\n",
    "  print(text)"
   ]
  },
  {
   "cell_type": "code",
   "execution_count": 34,
   "id": "17e3d3ce",
   "metadata": {},
   "outputs": [
    {
     "name": "stdout",
     "output_type": "stream",
     "text": [
      "[{'bounding_box': [[23.0, 12.0], [171.0, 12.0], [171.0, 30.0], [23.0, 30.0]], 'text': 'Invoice Number:', 'confidence': 0.9540684223175049}, {'bounding_box': [[23.0, 48.0], [225.0, 48.0], [225.0, 66.0], [23.0, 66.0]], 'text': '17256224121322859780', 'confidence': 0.9993818402290344}, {'bounding_box': [[23.0, 94.0], [182.0, 94.0], [182.0, 112.0], [23.0, 112.0]], 'text': 'Total Sales Value', 'confidence': 0.9649668335914612}, {'bounding_box': [[23.0, 130.0], [88.0, 130.0], [88.0, 149.0], [23.0, 149.0]], 'text': '3333.91', 'confidence': 0.9976738691329956}, {'bounding_box': [[22.0, 173.0], [156.0, 177.0], [156.0, 198.0], [21.0, 195.0]], 'text': 'Total Quantity:', 'confidence': 0.962952733039856}, {'bounding_box': [[21.0, 212.0], [64.0, 212.0], [64.0, 234.0], [21.0, 234.0]], 'text': '9.00', 'confidence': 0.9998164772987366}, {'bounding_box': [[22.0, 259.0], [192.0, 259.0], [192.0, 279.0], [22.0, 279.0]], 'text': 'Total Tax Charged', 'confidence': 0.9564278721809387}, {'bounding_box': [[22.0, 295.0], [86.0, 295.0], [86.0, 316.0], [22.0, 316.0]], 'text': '600.09', 'confidence': 0.9994247555732727}, {'bounding_box': [[23.0, 343.0], [107.0, 343.0], [107.0, 361.0], [23.0, 361.0]], 'text': 'Discount:', 'confidence': 0.9847517013549805}, {'bounding_box': [[21.0, 377.0], [64.0, 377.0], [64.0, 400.0], [21.0, 400.0]], 'text': '0.00', 'confidence': 0.9998037815093994}, {'bounding_box': [[23.0, 425.0], [180.0, 425.0], [180.0, 443.0], [23.0, 443.0]], 'text': 'Total Bill Amount:', 'confidence': 0.9676569700241089}, {'bounding_box': [[22.0, 461.0], [94.0, 461.0], [94.0, 480.0], [22.0, 480.0]], 'text': '3935.62', 'confidence': 0.9987794160842896}, {'bounding_box': [[23.0, 506.0], [122.0, 509.0], [121.0, 527.0], [22.0, 525.0]], 'text': 'Date Time:', 'confidence': 0.9524630308151245}, {'bounding_box': [[25.0, 545.0], [259.0, 545.0], [259.0, 560.0], [25.0, 560.0]], 'text': '2024-12-13T22:05:00+05:00', 'confidence': 0.9612587094306946}, {'bounding_box': [[20.0, 590.0], [64.0, 590.0], [64.0, 609.0], [20.0, 609.0]], 'text': 'NTN:', 'confidence': 0.9842879772186279}, {'bounding_box': [[23.0, 628.0], [124.0, 628.0], [124.0, 645.0], [23.0, 645.0]], 'text': '8009003-2', 'confidence': 0.998144805431366}, {'bounding_box': [[23.0, 674.0], [166.0, 674.0], [166.0, 691.0], [23.0, 691.0]], 'text': 'Business Name:', 'confidence': 0.9719333052635193}, {'bounding_box': [[24.0, 712.0], [216.0, 712.0], [216.0, 726.0], [24.0, 726.0]], 'text': 'C PLUS SUPERMARKET', 'confidence': 0.9400306344032288}, {'bounding_box': [[23.0, 757.0], [152.0, 757.0], [152.0, 774.0], [23.0, 774.0]], 'text': 'Branch Name:', 'confidence': 0.9573943018913269}, {'bounding_box': [[23.0, 793.0], [304.0, 793.0], [304.0, 810.0], [23.0, 810.0]], 'text': 'C PLUS SUPER MARKET UP MOrr', 'confidence': 0.9063310027122498}, {'bounding_box': [[24.0, 839.0], [170.0, 839.0], [170.0, 857.0], [24.0, 857.0]], 'text': 'Branch Address:', 'confidence': 0.9716966152191162}, {'bounding_box': [[22.0, 874.0], [405.0, 874.0], [405.0, 895.0], [22.0, 895.0]], 'text': 'Plot A-01 (ST-09) sector ll-1 north karachi', 'confidence': 0.9615556597709656}, {'bounding_box': [[23.0, 920.0], [144.0, 922.0], [144.0, 941.0], [22.0, 939.0]], 'text': 'POS Counter:', 'confidence': 0.9212625622749329}, {'bounding_box': [[21.0, 956.0], [85.0, 956.0], [85.0, 978.0], [21.0, 978.0]], 'text': '172562', 'confidence': 0.9999523758888245}]\n"
     ]
    }
   ],
   "source": [
    "def extract_text(data):\n",
    "  \"\"\"\n",
    "  Extracts text from the given nested list data structure.\n",
    "\n",
    "  Args:\n",
    "    data: A nested list containing text and bounding box information.\n",
    "\n",
    "  Returns:\n",
    "    A list of dictionaries containing the extracted text, bounding box, and confidence.\n",
    "  \"\"\"\n",
    "  extracted_data_lst = []\n",
    "  for item_level1 in data:\n",
    "    for bounding_box in item_level1:\n",
    "      item = {}\n",
    "      b_box = bounding_box[0]\n",
    "      item['bounding_box'] = b_box\n",
    "      text = bounding_box[1][0]\n",
    "      item['text'] = text\n",
    "      confidence = bounding_box[1][1]\n",
    "      item['confidence'] = confidence\n",
    "      extracted_data_lst.append(item)\n",
    "  return extracted_data_lst\n",
    "\n",
    "texts = extract_text(result)\n",
    "\n",
    "print(texts)"
   ]
  },
  {
   "cell_type": "code",
   "execution_count": null,
   "id": "ab82e3e1-3e28-435c-8a98-2eab6e518a3f",
   "metadata": {},
   "outputs": [],
   "source": [
    "texts"
   ]
  },
  {
   "cell_type": "code",
   "execution_count": null,
   "id": "ddb822cb-9fbd-4253-93b4-ed675c361eef",
   "metadata": {},
   "outputs": [],
   "source": [
    "from paddleocr import PaddleOCR\n",
    "import cv2\n",
    "import numpy as np\n",
    "\n",
    "# Load the OCR model\n",
    "ocr_model = PaddleOCR(use_gpu=True, lang='en')\n",
    "\n",
    "# Path to the input image\n",
    "image_path = r'E:\\Projects\\OCR\\ocr_testing\\test_gray2.jpg'\n",
    "\n",
    "# Read the image\n",
    "image = cv2.imread(image_path)\n",
    "\n",
    "# Run OCR\n",
    "result = ocr_model.ocr(image_path, cls=False)\n",
    "\n",
    "# Iterate through OCR results and draw them on the image\n",
    "for line in result:\n",
    "    for word_info in line:\n",
    "        bbox, text_info = word_info[:2]  # Extract bounding box and text\n",
    "        text, confidence = text_info  # Extract text and confidence score\n",
    "        # text: str\n",
    "        # confidence: float\n",
    "        \n",
    "        # Convert bounding box to integer\n",
    "        bbox = np.array(bbox, dtype=np.int32)\n",
    "\n",
    "        # Draw bounding box (Green)\n",
    "        cv2.polylines(image, [bbox], isClosed=True, color=(0, 255, 0), thickness=1)\n",
    "\n",
    "        # Place text above the detected box\n",
    "        # Calculate the position to place the text above the bounding box\n",
    "        text_position = (bbox[0][0], bbox[0][1] - 2)\n",
    "        cv2.putText(image, text, text_position, cv2.FONT_HERSHEY_SIMPLEX, 0.4, (0, 0, 255), 1, cv2.LINE_AA)\n",
    "\n",
    "# Save and display the image\n",
    "output_path = r'E:\\Projects\\OCR\\ocr_testing\\outputs\\ocr_result2_grey.jpg'\n",
    "cv2.imwrite(output_path, image)\n",
    "\n"
   ]
  },
  {
   "cell_type": "code",
   "execution_count": null,
   "id": "f3bf4907",
   "metadata": {},
   "outputs": [],
   "source": []
  }
 ],
 "metadata": {
  "kernelspec": {
   "display_name": "Python 3",
   "language": "python",
   "name": "python3"
  },
  "language_info": {
   "codemirror_mode": {
    "name": "ipython",
    "version": 3
   },
   "file_extension": ".py",
   "mimetype": "text/x-python",
   "name": "python",
   "nbconvert_exporter": "python",
   "pygments_lexer": "ipython3",
   "version": "3.12.8"
  }
 },
 "nbformat": 4,
 "nbformat_minor": 5
}
