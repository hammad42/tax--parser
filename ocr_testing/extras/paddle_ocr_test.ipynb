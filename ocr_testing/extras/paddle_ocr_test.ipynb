{
 "cells": [
  {
   "cell_type": "code",
   "execution_count": 1,
   "id": "f134f3cf-2fae-4364-85e3-9380f449a3ce",
   "metadata": {},
   "outputs": [],
   "source": [
    "from paddleocr import PaddleOCR, draw_ocr # main OCR dependencies\n",
    "from matplotlib import pyplot as plt # plot images\n",
    "import cv2 #opencv\n",
    "import os # folder directory navigation"
   ]
  },
  {
   "cell_type": "code",
   "execution_count": 2,
   "id": "d3f213fb-a046-4479-8b0d-6e6de7529186",
   "metadata": {},
   "outputs": [
    {
     "name": "stdout",
     "output_type": "stream",
     "text": [
      "[2025/02/20 00:51:50] ppocr DEBUG: Namespace(help='==SUPPRESS==', use_gpu=True, use_xpu=False, use_npu=False, use_mlu=False, ir_optim=True, use_tensorrt=False, min_subgraph_size=15, precision='fp32', gpu_mem=500, gpu_id=0, image_dir=None, page_num=0, det_algorithm='DB', det_model_dir='C:\\\\Users\\\\hamma/.paddleocr/whl\\\\det\\\\en\\\\en_PP-OCRv3_det_infer', det_limit_side_len=960, det_limit_type='max', det_box_type='quad', det_db_thresh=0.3, det_db_box_thresh=0.6, det_db_unclip_ratio=1.5, max_batch_size=10, use_dilation=False, det_db_score_mode='fast', det_east_score_thresh=0.8, det_east_cover_thresh=0.1, det_east_nms_thresh=0.2, det_sast_score_thresh=0.5, det_sast_nms_thresh=0.2, det_pse_thresh=0, det_pse_box_thresh=0.85, det_pse_min_area=16, det_pse_scale=1, scales=[8, 16, 32], alpha=1.0, beta=1.0, fourier_degree=5, rec_algorithm='SVTR_LCNet', rec_model_dir='C:\\\\Users\\\\hamma/.paddleocr/whl\\\\rec\\\\en\\\\en_PP-OCRv4_rec_infer', rec_image_inverse=True, rec_image_shape='3, 48, 320', rec_batch_num=6, max_text_length=25, rec_char_dict_path='e:\\\\python\\\\Lib\\\\site-packages\\\\paddleocr\\\\ppocr\\\\utils\\\\en_dict.txt', use_space_char=True, vis_font_path='./doc/fonts/simfang.ttf', drop_score=0.5, e2e_algorithm='PGNet', e2e_model_dir=None, e2e_limit_side_len=768, e2e_limit_type='max', e2e_pgnet_score_thresh=0.5, e2e_char_dict_path='./ppocr/utils/ic15_dict.txt', e2e_pgnet_valid_set='totaltext', e2e_pgnet_mode='fast', use_angle_cls=False, cls_model_dir='C:\\\\Users\\\\hamma/.paddleocr/whl\\\\cls\\\\ch_ppocr_mobile_v2.0_cls_infer', cls_image_shape='3, 48, 192', label_list=['0', '180'], cls_batch_num=6, cls_thresh=0.9, enable_mkldnn=False, cpu_threads=10, use_pdserving=False, warmup=False, sr_model_dir=None, sr_image_shape='3, 32, 128', sr_batch_num=1, draw_img_save_dir='./inference_results', save_crop_res=False, crop_res_save_dir='./output', use_mp=False, total_process_num=1, process_id=0, benchmark=False, save_log_path='./log_output/', show_log=True, use_onnx=False, return_word_box=False, output='./output', table_max_len=488, table_algorithm='TableAttn', table_model_dir=None, merge_no_span_structure=True, table_char_dict_path=None, formula_algorithm='LaTeXOCR', formula_model_dir=None, formula_char_dict_path=None, formula_batch_num=1, layout_model_dir=None, layout_dict_path=None, layout_score_threshold=0.5, layout_nms_threshold=0.5, kie_algorithm='LayoutXLM', ser_model_dir=None, re_model_dir=None, use_visual_backbone=True, ser_dict_path='../train_data/XFUND/class_list_xfun.txt', ocr_order_method=None, mode='structure', image_orientation=False, layout=True, table=True, formula=False, ocr=True, recovery=False, recovery_to_markdown=False, use_pdf2docx_api=False, invert=False, binarize=False, alphacolor=(255, 255, 255), lang='en', det=True, rec=True, type='ocr', savefile=False, ocr_version='PP-OCRv4', structure_version='PP-StructureV2')\n",
      "[2025/02/20 00:51:50] ppocr WARNING: The first GPU is used for inference by default, GPU ID: 0\n",
      "[2025/02/20 00:51:51] ppocr WARNING: The first GPU is used for inference by default, GPU ID: 0\n"
     ]
    }
   ],
   "source": [
    "ocr_model= PaddleOCR(use_gpu=True,lang='en') # Load the OCR model"
   ]
  },
  {
   "cell_type": "code",
   "execution_count": 3,
   "id": "d21b6ddc-6c47-4af5-87bf-32f9ce68a44b",
   "metadata": {},
   "outputs": [
    {
     "name": "stdout",
     "output_type": "stream",
     "text": [
      "[2025/02/20 00:52:55] ppocr DEBUG: dt_boxes num : 24, elapsed : 0.43000221252441406\n",
      "[2025/02/20 00:52:56] ppocr DEBUG: rec_res num  : 24, elapsed : 0.4150266647338867\n"
     ]
    }
   ],
   "source": [
    "result = ocr_model.ocr(r'E:\\Projects\\OCR\\ocr_testing\\gray_images\\gray_test.jpg', cls=False) # Run the OCR model on the image"
   ]
  },
  {
   "cell_type": "code",
   "execution_count": 9,
   "id": "311f556f-1a13-4dfd-8fa3-9c1675e5d0ba",
   "metadata": {},
   "outputs": [
    {
     "data": {
      "text/plain": [
       "[[46.0, 26.0], [336.0, 26.0], [336.0, 61.0], [46.0, 61.0]]"
      ]
     },
     "execution_count": 9,
     "metadata": {},
     "output_type": "execute_result"
    }
   ],
   "source": [
    "result[0][0][0]"
   ]
  },
  {
   "cell_type": "code",
   "execution_count": null,
   "id": "4d5dbefa",
   "metadata": {},
   "outputs": [],
   "source": []
  },
  {
   "cell_type": "code",
   "execution_count": 23,
   "id": "ca12cb39-10d3-48f5-a1b1-81e430866938",
   "metadata": {},
   "outputs": [
    {
     "name": "stdout",
     "output_type": "stream",
     "text": [
      "Invoice Number:\n",
      "17255825012313197493\n",
      "Total Sales Value:\n",
      "2407.17\n",
      "Total Quantity:\n",
      "16.82\n",
      "Total Tax Charged\n",
      "433.29\n",
      "Discount:\n",
      "0.00\n",
      "Total Bill Amount:\n",
      "2843.32\n",
      "Date Time:\n",
      "2025-01-23T13:17:00+05:00\n",
      "NTN:\n",
      "8009003-2\n",
      "Business Name:.\n",
      "C PLUS SUPER MARKET\n",
      "Branch Name:\n",
      "C PLUS SUPER MARKET (UP Morr)\n",
      "Branch Address\n",
      "Plot A-01 (sT-09) sector 1l-1north karachi\n",
      "POS Counter:\n",
      "172558\n"
     ]
    }
   ],
   "source": [
    "\n",
    "def extract_text(data):\n",
    "  \"\"\"\n",
    "  Extracts text from the given nested list data structure.\n",
    "\n",
    "  Args:\n",
    "    data: A nested list containing text and bounding box information.\n",
    "\n",
    "  Returns:\n",
    "    A list of strings containing the extracted text.\n",
    "  \"\"\"\n",
    "  extracted_texts = []\n",
    "  for item_level1 in data:\n",
    "    for item_level2 in item_level1:\n",
    "      if isinstance(item_level2, tuple):\n",
    "        text = item_level2[0]\n",
    "        extracted_texts.append(text)\n",
    "  return extracted_texts\n",
    "\n",
    "texts = extract_text(result[0])\n",
    "for text in texts:\n",
    "  print(text)"
   ]
  },
  {
   "cell_type": "code",
   "execution_count": 16,
   "id": "ab82e3e1-3e28-435c-8a98-2eab6e518a3f",
   "metadata": {},
   "outputs": [
    {
     "data": {
      "text/plain": [
       "[]"
      ]
     },
     "execution_count": 16,
     "metadata": {},
     "output_type": "execute_result"
    }
   ],
   "source": [
    "texts"
   ]
  },
  {
   "cell_type": "code",
   "execution_count": 13,
   "id": "ddb822cb-9fbd-4253-93b4-ed675c361eef",
   "metadata": {},
   "outputs": [
    {
     "name": "stdout",
     "output_type": "stream",
     "text": [
      "[2025/02/20 01:45:33] ppocr DEBUG: Namespace(help='==SUPPRESS==', use_gpu=True, use_xpu=False, use_npu=False, use_mlu=False, ir_optim=True, use_tensorrt=False, min_subgraph_size=15, precision='fp32', gpu_mem=500, gpu_id=0, image_dir=None, page_num=0, det_algorithm='DB', det_model_dir='C:\\\\Users\\\\hamma/.paddleocr/whl\\\\det\\\\en\\\\en_PP-OCRv3_det_infer', det_limit_side_len=960, det_limit_type='max', det_box_type='quad', det_db_thresh=0.3, det_db_box_thresh=0.6, det_db_unclip_ratio=1.5, max_batch_size=10, use_dilation=False, det_db_score_mode='fast', det_east_score_thresh=0.8, det_east_cover_thresh=0.1, det_east_nms_thresh=0.2, det_sast_score_thresh=0.5, det_sast_nms_thresh=0.2, det_pse_thresh=0, det_pse_box_thresh=0.85, det_pse_min_area=16, det_pse_scale=1, scales=[8, 16, 32], alpha=1.0, beta=1.0, fourier_degree=5, rec_algorithm='SVTR_LCNet', rec_model_dir='C:\\\\Users\\\\hamma/.paddleocr/whl\\\\rec\\\\en\\\\en_PP-OCRv4_rec_infer', rec_image_inverse=True, rec_image_shape='3, 48, 320', rec_batch_num=6, max_text_length=25, rec_char_dict_path='e:\\\\python\\\\Lib\\\\site-packages\\\\paddleocr\\\\ppocr\\\\utils\\\\en_dict.txt', use_space_char=True, vis_font_path='./doc/fonts/simfang.ttf', drop_score=0.5, e2e_algorithm='PGNet', e2e_model_dir=None, e2e_limit_side_len=768, e2e_limit_type='max', e2e_pgnet_score_thresh=0.5, e2e_char_dict_path='./ppocr/utils/ic15_dict.txt', e2e_pgnet_valid_set='totaltext', e2e_pgnet_mode='fast', use_angle_cls=False, cls_model_dir='C:\\\\Users\\\\hamma/.paddleocr/whl\\\\cls\\\\ch_ppocr_mobile_v2.0_cls_infer', cls_image_shape='3, 48, 192', label_list=['0', '180'], cls_batch_num=6, cls_thresh=0.9, enable_mkldnn=False, cpu_threads=10, use_pdserving=False, warmup=False, sr_model_dir=None, sr_image_shape='3, 32, 128', sr_batch_num=1, draw_img_save_dir='./inference_results', save_crop_res=False, crop_res_save_dir='./output', use_mp=False, total_process_num=1, process_id=0, benchmark=False, save_log_path='./log_output/', show_log=True, use_onnx=False, return_word_box=False, output='./output', table_max_len=488, table_algorithm='TableAttn', table_model_dir=None, merge_no_span_structure=True, table_char_dict_path=None, formula_algorithm='LaTeXOCR', formula_model_dir=None, formula_char_dict_path=None, formula_batch_num=1, layout_model_dir=None, layout_dict_path=None, layout_score_threshold=0.5, layout_nms_threshold=0.5, kie_algorithm='LayoutXLM', ser_model_dir=None, re_model_dir=None, use_visual_backbone=True, ser_dict_path='../train_data/XFUND/class_list_xfun.txt', ocr_order_method=None, mode='structure', image_orientation=False, layout=True, table=True, formula=False, ocr=True, recovery=False, recovery_to_markdown=False, use_pdf2docx_api=False, invert=False, binarize=False, alphacolor=(255, 255, 255), lang='en', det=True, rec=True, type='ocr', savefile=False, ocr_version='PP-OCRv4', structure_version='PP-StructureV2')\n",
      "[2025/02/20 01:45:33] ppocr WARNING: The first GPU is used for inference by default, GPU ID: 0\n",
      "[2025/02/20 01:45:35] ppocr WARNING: The first GPU is used for inference by default, GPU ID: 0\n",
      "[2025/02/20 01:45:37] ppocr DEBUG: dt_boxes num : 24, elapsed : 0.09656643867492676\n",
      "[2025/02/20 01:45:38] ppocr DEBUG: rec_res num  : 24, elapsed : 0.30052828788757324\n"
     ]
    },
    {
     "data": {
      "text/plain": [
       "True"
      ]
     },
     "execution_count": 13,
     "metadata": {},
     "output_type": "execute_result"
    }
   ],
   "source": [
    "from paddleocr import PaddleOCR\n",
    "import cv2\n",
    "import numpy as np\n",
    "\n",
    "# Load the OCR model\n",
    "ocr_model = PaddleOCR(use_gpu=True, lang='en')\n",
    "\n",
    "# Path to the input image\n",
    "image_path = r'E:\\Projects\\OCR\\ocr_testing\\gray_images\\gray_test.jpg'\n",
    "\n",
    "# Read the image\n",
    "image = cv2.imread(image_path)\n",
    "\n",
    "# Run OCR\n",
    "result = ocr_model.ocr(image_path, cls=False)\n",
    "\n",
    "# Iterate through OCR results and draw them on the image\n",
    "for line in result:\n",
    "    for word_info in line:\n",
    "        bbox, text_info = word_info[:2]  # Extract bounding box and text\n",
    "        text, confidence = text_info  # Extract text and confidence score\n",
    "        # text: str\n",
    "        # confidence: float\n",
    "        \n",
    "        # Convert bounding box to integer\n",
    "        bbox = np.array(bbox, dtype=np.int32)\n",
    "\n",
    "        # Draw bounding box (Green)\n",
    "        cv2.polylines(image, [bbox], isClosed=True, color=(0, 255, 0), thickness=1)\n",
    "\n",
    "        # Place text above the detected box\n",
    "        # Calculate the position to place the text above the bounding box\n",
    "        text_position = (bbox[0][0], bbox[0][1] - 10)\n",
    "        cv2.putText(image, text, text_position, cv2.FONT_HERSHEY_SIMPLEX, 0.7, (0, 0, 255), 1, cv2.LINE_AA)\n",
    "\n",
    "# Save and display the image\n",
    "output_path = r'E:\\Projects\\OCR\\ocr_testing\\gray_images\\ocr_result.jpg'\n",
    "cv2.imwrite(output_path, image)\n",
    "\n"
   ]
  },
  {
   "cell_type": "code",
   "execution_count": null,
   "id": "f3bf4907",
   "metadata": {},
   "outputs": [],
   "source": []
  }
 ],
 "metadata": {
  "kernelspec": {
   "display_name": "Python 3",
   "language": "python",
   "name": "python3"
  },
  "language_info": {
   "codemirror_mode": {
    "name": "ipython",
    "version": 3
   },
   "file_extension": ".py",
   "mimetype": "text/x-python",
   "name": "python",
   "nbconvert_exporter": "python",
   "pygments_lexer": "ipython3",
   "version": "3.12.8"
  }
 },
 "nbformat": 4,
 "nbformat_minor": 5
}
