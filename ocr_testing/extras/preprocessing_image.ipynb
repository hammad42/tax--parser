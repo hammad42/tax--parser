{
 "cells": [
  {
   "cell_type": "markdown",
   "metadata": {},
   "source": [
    "## Preprocessing image for OCR"
   ]
  },
  {
   "cell_type": "code",
   "execution_count": null,
   "metadata": {},
   "outputs": [],
   "source": [
    "import cv2\n",
    "\n",
    "# Read the image file\n",
    "image_path = r'E:\\Projects\\OCR\\ocr_testing\\test.jpg'\n",
    "image = cv2.imread(image_path)\n",
    "\n",
    "# Check if the image was successfully loaded\n",
    "if image is None:\n",
    "    print(\"Error: Could not read the image. Check the file path.\")\n",
    "else:\n",
    "    # Convert the image from BGR to grayscale\n",
    "    gray_image = cv2.cvtColor(image, cv2.COLOR_BGR2GRAY)\n",
    "\n",
    "    # Create a resizable window\n",
    "    cv2.namedWindow('Grayscale Image', cv2.WINDOW_NORMAL)\n",
    "\n",
    "    # Display the grayscale image\n",
    "    cv2.imshow('Grayscale Image', gray_image)\n",
    "\n",
    "    # Wait for a key press to close the window\n",
    "    while True:\n",
    "        key = cv2.waitKey(1) & 0xFF\n",
    "        if key == 27 or key == ord('q'):  # Exit if 'Esc' or 'q' is pressed\n",
    "            break\n",
    "\n",
    "    # Destroy all OpenCV windows\n",
    "    cv2.destroyAllWindows()"
   ]
  },
  {
   "cell_type": "code",
   "execution_count": 1,
   "metadata": {},
   "outputs": [
    {
     "name": "stdout",
     "output_type": "stream",
     "text": [
      "Grayscale image saved to E:\\Projects\\OCR\\ocr_testing\\test_gray.jpg\n"
     ]
    }
   ],
   "source": [
    "import cv2\n",
    "image_path = r'E:\\Projects\\OCR\\ocr_testing\\test.jpg'\n",
    "image = cv2.imread(image_path)\n",
    "if image is None:\n",
    "    print(\"Error: Could not read the image. Check the file path.\")\n",
    "else:\n",
    "    # Convert the image from BGR to grayscale\n",
    "    gray_image = cv2.cvtColor(image, cv2.COLOR_BGR2GRAY)\n",
    "    # Save the grayscale image to a file\n",
    "    gray_image_path = r'E:\\Projects\\OCR\\ocr_testing\\test_gray.jpg'\n",
    "    cv2.imwrite(gray_image_path, gray_image)\n",
    "    print(f\"Grayscale image saved to {gray_image_path}\")"
   ]
  },
  {
   "cell_type": "code",
   "execution_count": null,
   "metadata": {},
   "outputs": [],
   "source": []
  }
 ],
 "metadata": {
  "kernelspec": {
   "display_name": "Python 3",
   "language": "python",
   "name": "python3"
  },
  "language_info": {
   "codemirror_mode": {
    "name": "ipython",
    "version": 3
   },
   "file_extension": ".py",
   "mimetype": "text/x-python",
   "name": "python",
   "nbconvert_exporter": "python",
   "pygments_lexer": "ipython3",
   "version": "3.12.8"
  }
 },
 "nbformat": 4,
 "nbformat_minor": 2
}
